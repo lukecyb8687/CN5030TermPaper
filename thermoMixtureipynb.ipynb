{
  "nbformat": 4,
  "nbformat_minor": 0,
  "metadata": {
    "colab": {
      "name": "thermoMixtureipynb",
      "provenance": [],
      "collapsed_sections": [],
      "toc_visible": true
    },
    "kernelspec": {
      "name": "python3",
      "display_name": "Python 3"
    }
  },
  "cells": [
    {
      "cell_type": "markdown",
      "metadata": {
        "id": "z1BB4sI2q73T"
      },
      "source": [
        "# Import dependencies"
      ]
    },
    {
      "cell_type": "code",
      "metadata": {
        "id": "p3yPDiRWkaet"
      },
      "source": [
        "import math\n",
        "from scipy import integrate\n",
        "import matplotlib.pyplot as plt\n",
        "import numpy as np\n",
        "from mpl_toolkits import mplot3d\n"
      ],
      "execution_count": 1,
      "outputs": []
    },
    {
      "cell_type": "markdown",
      "metadata": {
        "id": "a2-5Dtt3q_7O"
      },
      "source": [
        "# Parameters"
      ]
    },
    {
      "cell_type": "code",
      "metadata": {
        "id": "LBZNt18a9jS2"
      },
      "source": [
        "flowRateSludge = 36 #kg/hr\n",
        "flowRateAir = 7.2\n",
        "flowRateSyngas = 40"
      ],
      "execution_count": null,
      "outputs": []
    },
    {
      "cell_type": "markdown",
      "metadata": {
        "id": "XuiWR-TtrCQH"
      },
      "source": [
        "# Fugacity Calculations"
      ]
    },
    {
      "cell_type": "code",
      "metadata": {
        "id": "Dnvbmi0OjPwB"
      },
      "source": [
        "def betaSpecies(T,Tc,w,P,Pc):\n",
        "  # get Tcij, Pcij, wij from Appendix B\n",
        "  # K, K, unitless, bar, bar\n",
        "  \n",
        "  Tr = T/Tc # Kelvin\n",
        "  Pr = P/Pc # bar\n",
        "  B0 = 0.083 - (0.422/(Tr**1.6)) #no dim\n",
        "  B1 = 0.139 - (0.172/(Tr**4.2)) # no dim\n",
        "  Bhat = B0 + w*B1 #no dim\n",
        "  B = Bhat*(Tc/(Pc*10**5))*8.314 # m3/mol\n",
        "  phiPureSpecies = np.exp(Bhat*(Pr/Tr))\n",
        "  y1 = 1\n",
        "  fugacity = phiPureSpecies*y1*P #bar\n",
        "  return Bhat, phiPureSpecies,B,fugacity"
      ],
      "execution_count": null,
      "outputs": []
    },
    {
      "cell_type": "markdown",
      "metadata": {
        "id": "dv2JwRxJj253"
      },
      "source": [
        "## Z (compressibility factor) calculations"
      ]
    },
    {
      "cell_type": "code",
      "metadata": {
        "id": "VISl0JIELJZ_",
        "outputId": "d8edff94-24a8-4849-99ba-d724e0e35e60",
        "colab": {
          "base_uri": "https://localhost:8080/",
          "height": 35
        }
      },
      "source": [
        "betaSpecies(600,33.19,-0.216,10,13.13)[2]*10**6"
      ],
      "execution_count": null,
      "outputs": [
        {
          "output_type": "execute_result",
          "data": {
            "text/plain": [
              "10.269698317745918"
            ]
          },
          "metadata": {
            "tags": []
          },
          "execution_count": 54
        }
      ]
    },
    {
      "cell_type": "code",
      "metadata": {
        "id": "ptlcaWeqVJTl"
      },
      "source": [
        "def z(T,Tc,w,P,Pc,y):\n",
        "  # 1 + Br*Pr/Tr\n",
        "  beta = betaSpecies(T,Tc,w,P,Pc)[2] #m3/mol\n",
        "  Tr = T/Tc # Kelvin\n",
        "  Pr = P/Pc # bar\n",
        "  z = 1+(beta*y*P*10**5)/(T)\n",
        "  molarV = (z*8.314*T)/(P*10**5) #m3/mol\n",
        "  return z, molarV"
      ],
      "execution_count": null,
      "outputs": []
    },
    {
      "cell_type": "code",
      "metadata": {
        "id": "Tii_33sNc90j",
        "outputId": "538b5659-6c14-40a1-db46-d1ac0d02a8ca",
        "colab": {
          "base_uri": "https://localhost:8080/",
          "height": 35
        }
      },
      "source": [
        "z(273.15,282.3,0.082,1,50.4,1)[1]"
      ],
      "execution_count": null,
      "outputs": [
        {
          "output_type": "execute_result",
          "data": {
            "text/plain": [
              "0.021290161637367667"
            ]
          },
          "metadata": {
            "tags": []
          },
          "execution_count": 40
        }
      ]
    },
    {
      "cell_type": "code",
      "metadata": {
        "id": "2pYEUzWzU2Ht",
        "outputId": "f60fa3a6-5a08-451f-8c41-d59b77123888",
        "colab": {
          "base_uri": "https://localhost:8080/",
          "height": 297
        }
      },
      "source": [
        "#zHydrogen = z(3000,33.19,-0.216,10,13.13,0)[0]\n",
        "#zCO = z(3000,132.9,0.048,10,34.99,1)[0]\n",
        "y = np.linspace(0,1,50)\n",
        "zStoreCO = []\n",
        "zStoreH2 = []\n",
        "zSyngasD = []\n",
        "zSyngas = []\n",
        "zSyngasI = []\n",
        "\n",
        "for i in range(0,len(y)):\n",
        "  zs = z(400,132.9,0.048,60,34.99,y[i])[0]\n",
        "  zsHydrogen = z(400,33.19,-0.216,60,13.13,1-y[i])[0]\n",
        "  zsyn = y[i]*zs+ (1-y[i])*zsHydrogen\n",
        "  zStoreCO.append(zs)\n",
        "  zStoreH2.append(zsHydrogen)\n",
        "  zSyngas.append(zsyn)\n",
        "\n",
        "  zsI = z(800,132.9,0.048,60,34.99,y[i])[0]\n",
        "  zsHydrogenI = z(800,33.19,-0.216,60,13.13,1-y[i])[0]\n",
        "  zsynI = y[i]*zsI+ (1-y[i])*zsHydrogenI\n",
        "  zSyngasI.append(zsynI)\n",
        "\n",
        "  zsD = z(300,132.9,0.048,60,34.99,y[i])[0]\n",
        "  zsHydrogenD = z(300,33.19,-0.216,60,13.13,1-y[i])[0]\n",
        "  zsynD = y[i]*zsD+ (1-y[i])*zsHydrogenD\n",
        "  zSyngasD.append(zsynD)\n",
        "\n",
        "#plt.scatter(y,zStoreCO,label='Z of CO')\n",
        "#plt.scatter(y,zStoreH2,label='Z of H2')\n",
        "plt.scatter(y,zSyngas,label='Z of Syngas at 400K')\n",
        "plt.scatter(y,zSyngasI,label='Z of Syngas at 800K')\n",
        "plt.scatter(y,zSyngasD,label='Z of Syngas at 300K')\n",
        "\n",
        "plt.xlabel('Mole fraction of CO')\n",
        "plt.ylabel('Compressibility factor')\n",
        "plt.legend()\n",
        "plt.show()\n",
        "z(400,132.9,0.048,60,34.99,1)[0]\n",
        "#z(300,33.19,-0.216,10,13.13,1)[0]"
      ],
      "execution_count": null,
      "outputs": [
        {
          "output_type": "display_data",
          "data": {
            "image/png": "[encoded data removed]",
            "text/plain": [
              "<Figure size 432x288 with 1 Axes>"
            ]
          },
          "metadata": {
            "tags": [],
            "needs_background": "light"
          }
        },
        {
          "output_type": "execute_result",
          "data": {
            "text/plain": [
              "1.0814960442328778"
            ]
          },
          "metadata": {
            "tags": []
          },
          "execution_count": 55
        }
      ]
    },
    {
      "cell_type": "markdown",
      "metadata": {
        "id": "LqAk0S0IjxbI"
      },
      "source": [
        "## Z as a function of T and P"
      ]
    },
    {
      "cell_type": "code",
      "metadata": {
        "id": "Z4IN_BNsZPM5",
        "outputId": "5df9d7e7-2da6-4799-8ce7-77a85341515f",
        "colab": {
          "base_uri": "https://localhost:8080/",
          "height": 248
        }
      },
      "source": [
        "def f(x, y):\n",
        "    return 0.6*z(x,132.9,0.048,y,34.99,0.6)[0] + 0.4*z(x,33.19,-0.216,y,13.13,0.4)[0]\n",
        "\n",
        "x = np.linspace(400,1000,50)\n",
        "y = np.linspace(1,50,50)\n",
        "X, Y = np.meshgrid(x, y)\n",
        "Z = f(X, Y)\n",
        "\n",
        "fig = plt.figure()\n",
        "ax = plt.axes(projection='3d')\n",
        "ax.plot_surface(X, Y, Z, rstride=5, cstride=5,\n",
        "                cmap='viridis', edgecolor='none')\n",
        "ax.set_xlabel('Temp (K)')\n",
        "ax.set_ylabel('Pressure (bar)')\n",
        "ax.set_zlabel('Z');\n"
      ],
      "execution_count": null,
      "outputs": [
        {
          "output_type": "display_data",
          "data": {
            "image/png": "[encoded data removed]",
            "text/plain": [
              "<Figure size 432x288 with 1 Axes>"
            ]
          },
          "metadata": {
            "tags": [],
            "needs_background": "light"
          }
        }
      ]
    },
    {
      "cell_type": "code",
      "metadata": {
        "id": "G5_ZrD5kkSS2"
      },
      "source": [
        "def zcMix(zi,zj):\n",
        "  zmix = (zi+zj)/2\n",
        "  return zmix #dimensionless\n",
        "\n",
        "def tcMix(Tci,Tcj,kij,chem):\n",
        "  # K, K , - , bool\n",
        "  if chem == True:\n",
        "    kij = 0\n",
        "  tmix = ((Tci*Tcj)**(1/2))*(1-kij)\n",
        "  return tmix # K\n",
        "\n",
        "def wMix(wi,wj):\n",
        "  wmix = (wi+wj)/2\n",
        "  return wmix\n",
        "\n",
        "def vcMix(vi,vj):\n",
        "  # m3/mol, m3/mol\n",
        "  vmix = ((vi**(1/3)+vj**(1/3))/2)**3\n",
        "  return vmix #m3/mol\n",
        "\n",
        "def pcMix(z,T,V):\n",
        "  # unitless , K, m3/mol\n",
        "  pmix = (z*8.314*T)/V\n",
        "  return pmix #Pa\n",
        "\n",
        "def mixCorr(T,Tc1,Tc2,w1,w2,P,Pc1,Pc2,Vc1,Vc2,Z1,Z2,y1):\n",
        "  # volume in m3/mol\n",
        "  # K, K ,K ,-,-,bar,bar,bar,m3/mol,m3/mol,-,-,%/100\n",
        "  wmix = wMix(w1,w2)\n",
        "  tmix = tcMix(Tc1,Tc2,0,True)\n",
        "  vmix = vcMix(Vc1,Vc2)\n",
        "  zmix = zcMix(Z1,Z2)\n",
        "  pmix = pcMix(zmix,tmix,vmix) # Pascal\n",
        "  bhatMix = betaSpecies(T,tmix,wmix,P,pmix*10**-5)[0] # no dim\n",
        "  b12 = betaSpecies(T,tmix,wmix,P,pmix*10**-5)[2] #M3/MOL\n",
        "  b11 = betaSpecies(T,Tc1,w1,P,Pc1)[2] #M3/MOL\n",
        "  b22 = betaSpecies(T,Tc2,w2,P,Pc2)[2] #M3/MOL\n",
        "  sigmaMix = 2*b12 - b11 - b22 #M3/MOL\n",
        "  phiHat1 = math.exp( ((P*10**5)/(8.314*T))*(b11+((1-y1)**2)*sigmaMix) )\n",
        "  phiHat2 = math.exp( ((P*10**5)/(8.314*T))*(b22+((y1)**2)*sigmaMix) )\n",
        "  fugacityHat1 = phiHat1*y1*P #bar\n",
        "  fugacityHat2 = phiHat2*(1-y1)*P #bar\n",
        "  return bhatMix, b12, phiHat1,fugacityHat1,phiHat2,fugacityHat2"
      ],
      "execution_count": null,
      "outputs": []
    },
    {
      "cell_type": "code",
      "metadata": {
        "id": "vLh-cD1RV-o5",
        "outputId": "2c64169f-83c2-4ad5-9c6b-ecedd514e87f",
        "colab": {
          "base_uri": "https://localhost:8080/",
          "height": 35
        }
      },
      "source": [
        "#TEST to see if an increase in y1 results in an increase in partial fugacity for ethylene (1) and ethane gas mixture (2)\n",
        "mixCorr(273.15,282.3,305.3,0.087,0.1,1,50.4,48.72,131*10**-6,145.5*10**-6,0.281,0.279,0.9)[3]-mixCorr(273.15,282.3,305.3,0.087,0.1,1,50.4,48.72,131*10**-6,145.5*10**-6,0.281,0.279,0.5)[3] > 0"
      ],
      "execution_count": null,
      "outputs": [
        {
          "output_type": "execute_result",
          "data": {
            "text/plain": [
              "True"
            ]
          },
          "metadata": {
            "tags": []
          },
          "execution_count": 23
        }
      ]
    },
    {
      "cell_type": "code",
      "metadata": {
        "id": "4bIBMrI4d2rh",
        "outputId": "efbd84ab-ac3d-40e0-b333-1b9758e19f28",
        "colab": {
          "base_uri": "https://localhost:8080/",
          "height": 35
        }
      },
      "source": [
        "mixCorr(600,132.9,33.19,0.048,-0.216,60,34.99,13.13,93.4*10**-6,64.1*10**-6,0.299,0.305,0.6)[4]"
      ],
      "execution_count": null,
      "outputs": [
        {
          "output_type": "execute_result",
          "data": {
            "text/plain": [
              "1.0140534418519151"
            ]
          },
          "metadata": {
            "tags": []
          },
          "execution_count": 57
        },
        {
          "output_type": "execute_result",
          "data": {
            "text/plain": [
              "1.0140534418519151"
            ]
          },
          "metadata": {
            "tags": []
          },
          "execution_count": 58
        }
      ]
    },
    {
      "cell_type": "markdown",
      "metadata": {
        "id": "I8IX46hxrXZ4"
      },
      "source": [
        "## Pressure range and its effect on fugacity of gas mixture"
      ]
    },
    {
      "cell_type": "code",
      "metadata": {
        "id": "v0oOYgJU3yN9",
        "outputId": "5f49ebaa-d7e9-41c2-ea11-d0ece1d3f0bb",
        "colab": {
          "base_uri": "https://localhost:8080/",
          "height": 295
        }
      },
      "source": [
        "plin = np.linspace(0,3000,50)\n",
        "phistore = []\n",
        "fugstore = []\n",
        "phistoreI = []\n",
        "fugstoreI = []\n",
        "for i in range(0,len(plin)):\n",
        "  philin = mixCorr(300,132.9,33.19,0.048,-0.216,plin[i],34.99,13.13,93.4*10**-6,64.1*10**-6,0.299,0.305,0.6)[2]\n",
        "  fuglin = mixCorr(300,132.9,33.19,0.048,-0.216,plin[i],34.99,13.13,93.4*10**-6,64.1*10**-6,0.299,0.305,0.6)[3]\n",
        "  phistore.append(philin)\n",
        "  fugstore.append(fuglin)\n",
        "\n",
        "  philinI = mixCorr(600,132.9,33.19,0.048,-0.216,plin[i],34.99,13.13,93.4*10**-6,64.1*10**-6,0.299,0.305,0.6)[2]\n",
        "  fuglinI = mixCorr(600,132.9,33.19,0.048,-0.216,plin[i],34.99,13.13,93.4*10**-6,64.1*10**-6,0.299,0.305,0.6)[3]\n",
        "  phistoreI.append(philinI)\n",
        "  fugstoreI.append(fuglinI)\n",
        "\n",
        "plt.scatter(plin,fugstore,label='fugacity of syngas mixture at 300K')\n",
        "plt.scatter(plin,fugstoreI,label='fugacity of syngas mixture at 800K')\n",
        "\n",
        "plt.plot(plin,plin,'r--',label=\"fugacity = pressure\")\n",
        "plt.xlabel('Pressure (bar)')\n",
        "plt.ylabel('Fugacity (bar)')\n",
        "plt.title('Deviation of ideal gas behavior as pressure increases')\n",
        "plt.legend()\n",
        "plt.grid()\n",
        "plt.show()"
      ],
      "execution_count": null,
      "outputs": [
        {
          "output_type": "display_data",
          "data": {
            "image/png": "[encoded data removed]",
            "text/plain": [
              "<Figure size 432x288 with 1 Axes>"
            ]
          },
          "metadata": {
            "tags": [],
            "needs_background": "light"
          }
        }
      ]
    },
    {
      "cell_type": "code",
      "metadata": {
        "id": "sOkMp7lFpCcP",
        "outputId": "a9c03896-86a5-4886-80b3-9c0b8d75b5de",
        "colab": {
          "base_uri": "https://localhost:8080/",
          "height": 295
        }
      },
      "source": [
        "plt.scatter(plin,phistore,label='fugacity coefficient of syngas mixture at 300k')\n",
        "plt.scatter(plin,phistoreI,label='fugacity coefficient of syngas mixture at 800k')\n",
        "\n",
        "plt.xlabel('Pressure (bar)')\n",
        "plt.ylabel('Fugacity coefficient')\n",
        "plt.title('Deviation of ideal gas behavior as pressure increases')\n",
        "plt.legend()\n",
        "plt.grid()\n",
        "plt.show()"
      ],
      "execution_count": null,
      "outputs": [
        {
          "output_type": "display_data",
          "data": {
            "image/png": "[encoded data removed]",
            "text/plain": [
              "<Figure size 432x288 with 1 Axes>"
            ]
          },
          "metadata": {
            "tags": [],
            "needs_background": "light"
          }
        }
      ]
    },
    {
      "cell_type": "code",
      "metadata": {
        "id": "mrsEJrGbA7Rv"
      },
      "source": [
        "def binary(P,T,b11,b22,b12,y1):\n",
        "  # p is bar, b\n",
        "  sigmaMix = 2*b12 - b11 - b22\n",
        "  sigma = sigmaMix*(10**-6)\n",
        "  phiHat1 = math.exp( ((P*10**5)/(8.314*T))*(b11*(10**-6)+((1-y1)**2)*sigma) )\n",
        "  phiHat2 = math.exp( ((P*10**5)/(8.314*T))*(b22*(10**-6)+((y1)**2)*sigma) )\n",
        "  return phiHat1, phiHat2, sigma"
      ],
      "execution_count": null,
      "outputs": []
    },
    {
      "cell_type": "markdown",
      "metadata": {
        "id": "QVq4IV0_rGRP"
      },
      "source": [
        "# Exergy and Energy Balances"
      ]
    },
    {
      "cell_type": "code",
      "metadata": {
        "id": "y6gkuh9CAWTd"
      },
      "source": [
        "def capacity(A,B,C,D,T):\n",
        "  cp = (A + (B*10**-3)*T +(C*10**-6)*T**2 + (D*10**5)*T**-2)*8.314\n",
        "  return cp "
      ],
      "execution_count": null,
      "outputs": []
    },
    {
      "cell_type": "code",
      "metadata": {
        "id": "88dvANgk0g2t"
      },
      "source": [
        "def cp(T,T0,A,B,C,D):\n",
        "  cpH = A+ (B/2)*(T+T0) + (C/3)*(T**2 + T0**2 + T*T0) + (D/(T*T0))\n",
        "  cpH = 8.314*cpH\n",
        "\n",
        "  cpS = A + ((B+(C+ (D/((T0**2)*(T**2))))*((T+T0)/2))*((T-T0)/math.log(T/T0)))\n",
        "  cpS = 8.314*cpS\n",
        "  \n",
        "  return cpH, cpS"
      ],
      "execution_count": null,
      "outputs": []
    },
    {
      "cell_type": "code",
      "metadata": {
        "id": "qYaewDLwOZom",
        "outputId": "04c7e828-b42c-4734-e86f-6324f609ce5d",
        "colab": {
          "base_uri": "https://localhost:8080/",
          "height": 35
        }
      },
      "source": [
        "10985/113841"
      ],
      "execution_count": null,
      "outputs": [
        {
          "output_type": "execute_result",
          "data": {
            "text/plain": [
              "0.09649423318488067"
            ]
          },
          "metadata": {
            "tags": []
          },
          "execution_count": 45
        }
      ]
    },
    {
      "cell_type": "code",
      "metadata": {
        "id": "-0wvY8v01yHN",
        "outputId": "770f0389-96d4-4581-b0bd-cdfae48d0474",
        "colab": {
          "base_uri": "https://localhost:8080/",
          "height": 35
        }
      },
      "source": [
        "y = [0.0901,0.5978,0.3098,0.0430]\n",
        "mass = [44,28,2,16]\n",
        "A = [5.457,3.376,3.249,1.702]\n",
        "B = [1.045*10**-3,0.557*10**-3,0.422*10**-3, 9.081*10**-3]\n",
        "C = [0,0,0,-2.164*10**-6]\n",
        "D = [-1.157*10**5,-0.031*10**5,0.083*10**5,0]\n",
        "T = 1000\n",
        "T0 = 298.15\n",
        "storeCPH = []\n",
        "storeCPS = []\n",
        "sum1 = []\n",
        "for i in range(0,len(A)):\n",
        "  storeCPH.append(cp(T,T0,A[i],B[i],C[i],D[i])[0])\n",
        "  storeCPS.append(cp(T,T0,A[i],B[i],C[i],D[i])[1])\n",
        "for i in range(0,len(A)):\n",
        "  sum1.append(y[i]*mass[i])\n",
        "(40*1000)/(3600*sum(sum1))"
      ],
      "execution_count": null,
      "outputs": [
        {
          "output_type": "execute_result",
          "data": {
            "text/plain": [
              "0.5048118667135133"
            ]
          },
          "metadata": {
            "tags": []
          },
          "execution_count": 14
        }
      ]
    },
    {
      "cell_type": "code",
      "metadata": {
        "id": "mUtZoXlWioe2"
      },
      "source": [
        "def standardHeat(temp):\n",
        "  # [C0, C02]\n",
        "  href = [172.5, -41]\n",
        "  A = [3.376,5.457]\n",
        "  B = [0.557*10**-3, 1.045*10**-3]\n",
        "  C = [0,0]\n",
        "  D = [-0.031*10**5, -1.157*10**5]\n",
        "  R1 = []\n",
        "  R2 = []\n",
        "\n",
        "  # Boudouard Reaction\n",
        "  deltaA1 = 2*A[0]-A[1]\n",
        "  deltaB1 = 2*B[0]-B[1]\n",
        "  deltaC1 = 2*C[0]-C[1]\n",
        "  deltaD1 = 2*D[0]-D[1]\n",
        "  R1 = [deltaA1,deltaB1,deltaC1,deltaD1]\n",
        "  # Shift Reaction\n",
        "  deltaA2 = A[1]-A[0]-3.470\n",
        "  deltaB2 = B[1]-B[0]-(1.450*10**-3)\n",
        "  deltaC2 = C[1]-C[0]\n",
        "  deltaD2 = D[1]-D[0]-(0.121*10**5)\n",
        "  R2 = [deltaA2,deltaB2,deltaC2,deltaD2]\n",
        "\n",
        "  cp1 = lambda T: (R1[0] + R1[1]*T +R1[2]*T**2 + R1[3]*T**-2)*8.314\n",
        "  cpInt1 = integrate.quad(cp1,298.15,temp)[0]\n",
        "  cp2 = lambda T: (R2[0] + R2[1]*T +R2[2]*T**2 + R2[3]*T**-2)*8.314\n",
        "  cpInt2 = integrate.quad(cp2,298.15,temp)[0]\n",
        "\n",
        "  h1 = (href[0]+ cpInt1)*10**-3\n",
        "  h2 = (href[1]+ cpInt2)*10**-3\n",
        "\n",
        "  return h1,h2"
      ],
      "execution_count": null,
      "outputs": []
    },
    {
      "cell_type": "code",
      "metadata": {
        "id": "CvpZGVT0rzDR"
      },
      "source": [
        "ySyngas = [0.3098,0.0901,0.5978,0.0403] #h2,co2,co,ch4\n",
        "massGas = [2,44,28,16]\n",
        "h0gas = [0,-394374,-137150,-74850]\n",
        "h0syngas = [0,0,0,0]\n",
        "molarM = [0,0,0,0]\n",
        "\n",
        "for i in range(0,len(ySyngas)):\n",
        "  h0syngas[i] = ySyngas[i]*h0gas[i]\n",
        "  molarM[i] = ySyngas[i]*massGas[i] #g/mol\n",
        "\n",
        "h0SYNGAS = sum(h0syngas)\n",
        "molarMassSyngas = sum(molarM)"
      ],
      "execution_count": null,
      "outputs": []
    },
    {
      "cell_type": "code",
      "metadata": {
        "id": "1_btQFnBg0Ad"
      },
      "source": [
        "def exergyChemical(n,ex):\n",
        "  exergyChemical = []\n",
        "  exergyChemical2 = []\n",
        "  for i in range(0,len(n)):\n",
        "    exergyChem = n[i]*math.log(n[i])\n",
        "    exergyChem2 = n[i]*ex[i]\n",
        "    exergyChemical.append(exergyChem)\n",
        "    exergyChemical2.append(exergyChem2)\n",
        "  return (8.314*273.15)*sum(exergyChemical) + sum(exergyChemical2)\n",
        "\n",
        "n = ySyngas\n",
        "ex = [236100,19870,275100,831650] #kJ/kmol\n",
        "chemicalExergySyngas = exergyChemical(n,ex)\n",
        "\n",
        "nAir = [0.21,0.79]\n",
        "exAir = [3970,668]\n",
        "chemicalExergyAir = exergyChemical(nAir,exAir)"
      ],
      "execution_count": null,
      "outputs": []
    },
    {
      "cell_type": "code",
      "metadata": {
        "id": "PvkrbXZ4MdUu"
      },
      "source": [
        "def exergyPhysical(A,B,C,D,temp):\n",
        "  exergyStore = []\n",
        "  for i in range(0,len(A)):\n",
        "    cpH = lambda T: (A[i] + (B[i]*10**-3)*T +(C[i]*10**-6)*T**2 + (D[i]*10**5)*T**-2)*8.314 #J/mol\n",
        "    deltaH = integrate.quad(cpH,298.15,temp)[0]\n",
        "    cpS = lambda T: ((A[i]/T) + (B[i]*10**-3) +(C[i]*10**-6)*T + (D[i]*10**5)*T**-3)*8.314 #J/mol\n",
        "    deltaS = integrate.quad(cpS,298.15,temp)[0] - (8.314*4.09)\n",
        "    exergyPh = deltaH - 298.15*(deltaS)\n",
        "    exergyStore.append(exergyPh)\n",
        "  return exergyStore\n",
        "\n",
        "Asyngas = [3.249,5.457,3.376,1.702] # H2, CO2, CO, CH4\n",
        "Bsyngas = [0.422,1.045,0.557,9.081]\n",
        "Csyngas = [0,0,0,-2.164]\n",
        "Dsyngas = [0.083,-1.157,-0.031,0]\n",
        "\n",
        "exergyPhysicalSyngas = exergyPhysical(Asyngas, Bsyngas, Csyngas, Dsyngas,1000)\n",
        "syngasPhysicalExergy = sum(exergyPhysicalSyngas)\n",
        "\n",
        "Aair = [3.355]\n",
        "Bair = [0.575]\n",
        "Cair = [0]\n",
        "Dair = [-0.016]\n",
        "\n",
        "exergyPhysicalAir = exergyPhysical(Aair, Bair, Cair, Dair,1000)\n",
        "exergyPhysicalAir = sum(exergyPhysicalAir)"
      ],
      "execution_count": null,
      "outputs": []
    },
    {
      "cell_type": "code",
      "metadata": {
        "id": "ABkCxId6gPCg",
        "outputId": "41691010-9891-4930-ba1b-9a9553406112",
        "colab": {
          "base_uri": "https://localhost:8080/",
          "height": 35
        }
      },
      "source": [
        "exergyTotalSyngas = (flowRateSyngas*10**-3*1000*(chemicalExergySyngas + syngasPhysicalExergy))/(3600*molarMassSyngas) #kJ/s\n",
        "exergyTotalAir = ((chemicalExergyAir+exergyPhysicalAir)*1000*flowRateAir*10**-3)/(3600*29) #kJ/s\n",
        "exergyTotalSludge = (1.156*17*flowRateSludge*10**3)/3600 #kJ/s\n",
        "exergy = [exergyTotalSyngas,exergyTotalAir,exergyTotalSludge]\n",
        "exergy"
      ],
      "execution_count": null,
      "outputs": [
        {
          "output_type": "execute_result",
          "data": {
            "text/plain": [
              "[186.5499810613931, 1.4490950630451043, 196.51999999999998]"
            ]
          },
          "metadata": {
            "tags": []
          },
          "execution_count": 12
        }
      ]
    },
    {
      "cell_type": "markdown",
      "metadata": {
        "id": "XZACl0IUrKLH"
      },
      "source": [
        "## Exergy and energy efficiencies across temperature range and air flow rate range\n"
      ]
    },
    {
      "cell_type": "code",
      "metadata": {
        "id": "22iW4kkvhT1A",
        "outputId": "5e3d241e-c97c-4d5c-cc98-d59761ab3ee1",
        "colab": {
          "base_uri": "https://localhost:8080/",
          "height": 870
        }
      },
      "source": [
        "def tempRange(flowRateSyngas,molarMassSyngas,chemicalExergySyngas,chemicalExergyAir,flowRateAir):\n",
        "  T = np.linspace(800,1400,50)\n",
        "  store = []\n",
        "  storeAir = []\n",
        "  Aair = [3.355]\n",
        "  Bair = [0.575]\n",
        "  Cair = [0]\n",
        "  Dair = [-0.016]\n",
        "  Asyngas = [3.249,5.457,3.376,1.702] # H2, CO2, CO, CH4\n",
        "  Bsyngas = [0.422,1.045,0.557,9.081]\n",
        "  Csyngas = [0,0,0,-2.164]\n",
        "  Dsyngas = [0.083,-1.157,-0.031,0]\n",
        "  ySyngas = [0.3098,0.0901,0.5978,0.0403]\n",
        "\n",
        "  storeSyngasH = []\n",
        "  storeAirH = []\n",
        "  qStore = []\n",
        "  for i in range(0,len(T)):\n",
        "    exergyT = exergyPhysical(Asyngas, Bsyngas, Csyngas, Dsyngas,T[i])\n",
        "    syngasPhysicalExergy = sum(exergyT)\n",
        "    syngasTotal = (flowRateSyngas*10**-3*1000*(chemicalExergySyngas + syngasPhysicalExergy))/(3600*molarMassSyngas) #kJ/s\n",
        "    store.append(syngasTotal)\n",
        "\n",
        "    exergyA = exergyPhysical(Aair, Bair, Cair, Dair,T[i])\n",
        "    airPhysicalExergy = sum(exergyA)\n",
        "    exergyTotalAir = ((chemicalExergyAir+airPhysicalExergy)*1000*flowRateAir*10**-3)/(3600*29) #kJ/s\n",
        "    storeAir.append(exergyTotalAir)\n",
        "  \n",
        "    indivEnthalpSyngas = finalEnthalpy(Asyngas,Bsyngas,Csyngas,Dsyngas,T[i],[8468,9364,8669,0])\n",
        "    ans = [0,0,0,0]\n",
        "    for i in range(0,len(indivEnthalpSyngas)):\n",
        "      ans[i] = ySyngas[i]*indivEnthalpSyngas[i]\n",
        "    finalEnthalpySyngas = sum(ans) #J/mol\n",
        "    hSyngas = (finalEnthalpySyngas*flowRateSyngas*1000*10**-3)/(3600*molarMassSyngas) #kJ/s\n",
        "    storeSyngasH.append(hSyngas)\n",
        "\n",
        "    finalEnthalpyAir = finalEnthalpy(Aair,Bair,Bair,Dair,T[i],[8687.53])\n",
        "    hAir = (finalEnthalpyAir[0]*flowRateAir*1000*10**-3)/(3600*29)\n",
        "    storeAirH.append(hAir)\n",
        "\n",
        "  storeSludge = np.ones(len(T))\n",
        "  storeSludgeH = np.ones(len(T))\n",
        "  for i in range(0,len(storeSludge)):\n",
        "    storeSludge[i] = (1.156*17*36*10**3)/3600\n",
        "    storeSludgeH[i] = (17*36*10**3)/3600 #kJ/s\n",
        "\n",
        "  storeEff = []\n",
        "  storeEffH = []\n",
        "  for i in range(0,len(storeAir)):\n",
        "    eff = (store[i]/(storeSludge[i]+storeAir[i]))*100\n",
        "    effH = (storeSyngasH[i]/(storeSludgeH[i]+storeAirH[i]))*100\n",
        "    storeEff.append(eff)\n",
        "    storeEffH.append(effH)\n",
        "\n",
        "  for i in range(0,len(storeSyngasH)):\n",
        "    q = storeSyngasH[i]-storeAirH[i]-storeSludgeH[i]\n",
        "    qStore.append(q)\n",
        "  return store,storeAir,storeEff,storeEffH,storeSyngasH,storeAirH,qStore\n",
        "\n",
        "\n",
        "T = np.linspace(800,1400,50)\n",
        "y1 = tempRange(flowRateSyngas,molarMassSyngas,chemicalExergySyngas,chemicalExergyAir,flowRateAir)[0]\n",
        "plt.scatter(T,y1)\n",
        "plt.xlabel('Temperature (K)')\n",
        "plt.ylabel('Exergy of syngas (kJ/s)')\n",
        "plt.grid()\n",
        "plt.show()\n",
        "\n",
        "y4 = tempRange(flowRateSyngas,molarMassSyngas,chemicalExergySyngas,chemicalExergyAir,flowRateAir)[6]\n",
        "plt.scatter(T,y4)\n",
        "plt.xlabel('Temperature (K)')\n",
        "plt.ylabel('Q rate of gasification (kJ/s)')\n",
        "plt.grid()\n",
        "plt.show()\n",
        "\n",
        "fig, (ax1, ax2) = plt.subplots(2,sharex=True)\n",
        "fig.suptitle('Energy and Exergy Efficiency (%) against Temperature (K)')\n",
        "y2 = tempRange(flowRateSyngas,molarMassSyngas,chemicalExergySyngas,chemicalExergyAir,flowRateAir)[2]\n",
        "y3 = tempRange(flowRateSyngas,molarMassSyngas,chemicalExergySyngas,chemicalExergyAir,flowRateAir)[3]\n",
        "ax1.scatter(T,y2)\n",
        "ax1.grid()\n",
        "plt.setp(ax1, ylabel='Effiency Exergy(%)')\n",
        "\n",
        "ax2.scatter(T+1,y3)\n",
        "plt.setp(ax2, ylabel='Effiency Energy(%)')\n",
        "plt.xlabel('Temperature (K)')\n",
        "ax2.grid()\n",
        "plt.show()\n",
        "\n",
        "print(tempRange(flowRateSyngas,molarMassSyngas,chemicalExergySyngas,chemicalExergyAir,flowRateAir)[6])"
      ],
      "execution_count": null,
      "outputs": [
        {
          "output_type": "display_data",
          "data": {
            "image/png": "[encoded data removed]",
            "text/plain": [
              "<Figure size 432x288 with 1 Axes>"
            ]
          },
          "metadata": {
            "tags": [],
            "needs_background": "light"
          }
        },
        {
          "output_type": "display_data",
          "data": {
            "image/png": "[encoded data removed]",
            "text/plain": [
              "<Figure size 432x288 with 1 Axes>"
            ]
          },
          "metadata": {
            "tags": [],
            "needs_background": "light"
          }
        },
        {
          "output_type": "display_data",
          "data": {
            "image/png": "[encoded data removed]",
            "text/plain": [
              "<Figure size 432x288 with 2 Axes>"
            ]
          },
          "metadata": {
            "tags": [],
            "needs_background": "light"
          }
        },
        {
          "output_type": "stream",
          "text": [
            "[-158.87961820786865, -158.66035657042625, -158.4405789145003, -158.22028758976776, -157.99948488803807, -157.7781730473666, -157.5563542558228, -157.33403065494525, -157.11120434291425, -156.88787737746839, -156.6640517785886, -156.43972953097145, -156.21491258631045, -155.98960286540262, -155.7638022600957, -155.5375126350901, -155.31073582960764, -155.0834736589389, -154.8557279158792, -154.62750037206214, -154.39879277919954, -154.16960687023544, -153.9399443604203, -153.70980694831277, -153.47919631671374, -153.24811413353868, -153.01656205263248, -152.78454171453131, -152.5520547471758, -152.3191027665784, -152.0856873774492, -151.85181017378238, -151.61747273940688, -151.382676648503, -151.14742346608838, -150.9117147484744, -150.67555204369577, -150.43893689191515, -150.20187082580372, -149.96435537090048, -149.7263920459506, -149.4879823632251, -149.24912782882217, -149.00982994295228, -148.7700902002074, -148.5299100898155, -148.2892910958816, -148.0482346976157, -147.80674236954874, -147.56481558173726]\n"
          ],
          "name": "stdout"
        }
      ]
    },
    {
      "cell_type": "code",
      "metadata": {
        "id": "83_sLp7axb3t",
        "outputId": "c808ea17-59eb-4d20-cabe-2c3c5ce45eea",
        "colab": {
          "base_uri": "https://localhost:8080/",
          "height": 832
        }
      },
      "source": [
        "def afrRange(flowRateSyngas,molarMassSyngas,chemicalExergySyngas,chemicalExergyAir,T):\n",
        "  flowRateAir = np.linspace(7,20,50)\n",
        "  store = []\n",
        "  storeAir = []\n",
        "  Aair = [3.355]\n",
        "  Bair = [0.575]\n",
        "  Cair = [0]\n",
        "  Dair = [-0.016]\n",
        "  Asyngas = [3.249,5.457,3.376,1.702] # H2, CO2, CO, CH4\n",
        "  Bsyngas = [0.422,1.045,0.557,9.081]\n",
        "  Csyngas = [0,0,0,-2.164]\n",
        "  Dsyngas = [0.083,-1.157,-0.031,0]\n",
        "  ySyngas = [0.3098,0.0901,0.5978,0.0403]\n",
        "\n",
        "  storeSyngasH = []\n",
        "  storeAirH = []\n",
        "  qStore = []\n",
        "\n",
        "  for i in range(0,len(flowRateAir)):\n",
        "    exergyT = exergyPhysical(Asyngas, Bsyngas, Csyngas, Dsyngas,T)\n",
        "    syngasPhysicalExergy = sum(exergyT)\n",
        "    syngasTotal = (0.75*(36+flowRateAir[i])*10**-3*1000*(chemicalExergySyngas + syngasPhysicalExergy))/(3600*molarMassSyngas) #kJ/s\n",
        "    store.append(syngasTotal)\n",
        "\n",
        "    exergyA = exergyPhysical(Aair, Bair, Cair, Dair,T)\n",
        "    airPhysicalExergy = sum(exergyA)\n",
        "    exergyTotalAir = ((chemicalExergyAir+airPhysicalExergy)*1000*flowRateAir[i]*10**-3)/(3600*29) #kJ/s\n",
        "    storeAir.append(exergyTotalAir)\n",
        "  \n",
        "    indivEnthalpSyngas = finalEnthalpy(Asyngas,Bsyngas,Csyngas,Dsyngas,T,[8468,9364,8669,0])\n",
        "    ans = [0,0,0,0]\n",
        "    for j in range(0,len(indivEnthalpSyngas)):\n",
        "      ans[j] = ySyngas[j]*indivEnthalpSyngas[j]\n",
        "    finalEnthalpySyngas = sum(ans) #J/mol\n",
        "    hSyngas = finalEnthalpySyngas*(0.75*(36+flowRateAir[i])*1000*10**-3)/(3600*molarMassSyngas) #kJ/s\n",
        "    storeSyngasH.append(hSyngas)\n",
        "\n",
        "    finalEnthalpyAir = finalEnthalpy(Aair,Bair,Bair,Dair,T,[8687.53])\n",
        "    hAir = (finalEnthalpyAir[0]*flowRateAir[i]*1000*10**-3)/(3600*29)\n",
        "    storeAirH.append(hAir)\n",
        "\n",
        "  storeSludge = np.ones(len(flowRateAir))\n",
        "  storeSludgeH = np.ones(len(flowRateAir))\n",
        "  for i in range(0,len(storeSludge)):\n",
        "    storeSludge[i] = (1.156*17*36*10**3)/3600\n",
        "    storeSludgeH[i] = (17*36*10**3)/3600 #kJ/s\n",
        "\n",
        "  storeEff = []\n",
        "  storeEffH = []\n",
        "  for i in range(0,len(storeAir)):\n",
        "    eff = (store[i]/(storeSludge[i]+storeAir[i]))*100\n",
        "    effH = (storeSyngasH[i]/(storeSludgeH[i]+storeAir[i]))*100\n",
        "    storeEff.append(eff)\n",
        "    storeEffH.append(effH)\n",
        "\n",
        "  for i in range(0,len(storeSyngasH)):\n",
        "    q = storeSyngasH[i]-storeAirH[i]-storeSludgeH[i]\n",
        "    qStore.append(q)\n",
        "\n",
        "  return store,storeAir,storeEff,storeEffH,storeSyngasH,storeAirH,qStore\n",
        "\n",
        "fra = np.linspace(7,20,50)\n",
        "y1 = afrRange(flowRateSyngas,molarMassSyngas,chemicalExergySyngas,chemicalExergyAir,1000)[3]\n",
        "plt.scatter(fra,y1)\n",
        "plt.xlabel('Flow Rate of Air (kg/h)')\n",
        "plt.ylabel('Exergy of syngas (kJ/s)')\n",
        "plt.grid()\n",
        "plt.show()\n",
        "\n",
        "y4 = afrRange(flowRateSyngas,molarMassSyngas,chemicalExergySyngas,chemicalExergyAir,1000)[6]\n",
        "plt.scatter(fra,y4)\n",
        "plt.xlabel('Flow Rate of Air (kg/h)')\n",
        "plt.ylabel('Q rate of gasification (kJ/s)')\n",
        "plt.grid()\n",
        "plt.show()\n",
        "\n",
        "fig, (ax1, ax2) = plt.subplots(2,sharex=True)\n",
        "fig.suptitle('Energy and Exergy Efficiency (%) against Air Flow Rate (kg/h)')\n",
        "y2 = afrRange(flowRateSyngas,molarMassSyngas,chemicalExergySyngas,chemicalExergyAir,1000)[2]\n",
        "y3 = afrRange(flowRateSyngas,molarMassSyngas,chemicalExergySyngas,chemicalExergyAir,1000)[3]\n",
        "ax1.scatter(fra,y2)\n",
        "ax1.grid()\n",
        "plt.setp(ax1, ylabel='Effiency Exergy(%)')\n",
        "\n",
        "ax2.scatter(fra+1,y3)\n",
        "plt.setp(ax2, ylabel='Effiency Energy(%)')\n",
        "plt.xlabel('Flow Rate of Air (kg/h)')\n",
        "ax2.grid()\n",
        "plt.show()"
      ],
      "execution_count": null,
      "outputs": [
        {
          "output_type": "display_data",
          "data": {
            "image/png": "[encoded data removed]",
            "text/plain": [
              "<Figure size 432x288 with 1 Axes>"
            ]
          },
          "metadata": {
            "tags": [],
            "needs_background": "light"
          }
        },
        {
          "output_type": "display_data",
          "data": {
            "image/png": "[encoded data removed]",
            "text/plain": [
              "<Figure size 432x288 with 1 Axes>"
            ]
          },
          "metadata": {
            "tags": [],
            "needs_background": "light"
          }
        },
        {
          "output_type": "display_data",
          "data": {
            "image/png": "[encoded data removed]",
            "text/plain": [
              "<Figure size 432x288 with 2 Axes>"
            ]
          },
          "metadata": {
            "tags": [],
            "needs_background": "light"
          }
        }
      ]
    },
    {
      "cell_type": "code",
      "metadata": {
        "id": "FJ9zNEGn1t4S"
      },
      "source": [
        "def finalEnthalpy(A,B,C,D,temp,h0):\n",
        "  change = []\n",
        "  hStore = []\n",
        "  for i in range(0,len(A)):\n",
        "    cpH = lambda T: (A[i] + (B[i]*10**-3)*T +(C[i]*10**-6)*T**2 + (D[i]*10**5)*T**-2)*8.314 #J/mol\n",
        "    deltaH = integrate.quad(cpH,298.15,temp)[0]\n",
        "    change.append(deltaH)\n",
        "    h = h0[i]+deltaH\n",
        "    hStore.append(h)\n",
        "  return hStore\n",
        "\n",
        "indivEnthalpSyngas = finalEnthalpy(Asyngas,Bsyngas,Csyngas,Dsyngas,1000,[8468,9364,8669,0])\n",
        "ans = [0,0,0,0]\n",
        "for i in range(0,len(indivEnthalpSyngas)):\n",
        "  ans[i] = ySyngas[i]*indivEnthalpSyngas[i]\n",
        "finalEnthalpySyngas = sum(ans) #J/mol\n",
        "\n",
        "finalEnthalpyAir = finalEnthalpy(Aair,Bair,Bair,Dair,1000,[8687.53])\n"
      ],
      "execution_count": null,
      "outputs": []
    },
    {
      "cell_type": "code",
      "metadata": {
        "id": "vl81Xs4l_UK9",
        "outputId": "28104bbb-4b36-41b9-b07d-2bb3db7e5405",
        "colab": {
          "base_uri": "https://localhost:8080/",
          "height": 35
        }
      },
      "source": [
        "hSyngas = (finalEnthalpySyngas*flowRateSyngas*1000*10**-3)/(3600*molarMassSyngas) #kJ/s\n",
        "hSludge = (17*flowRateSludge*10**3)/3600 #kJ/s\n",
        "hAir = (finalEnthalpyAir[0]*flowRateAir*1000*10**-3)/(3600*29)\n",
        "energy = [hSyngas, hAir,hSludge]\n",
        "energy"
      ],
      "execution_count": null,
      "outputs": [
        {
          "output_type": "execute_result",
          "data": {
            "text/plain": [
              "[16.510545613095214, 2.204298338325147, 170.0]"
            ]
          },
          "metadata": {
            "tags": []
          },
          "execution_count": 14
        }
      ]
    },
    {
      "cell_type": "code",
      "metadata": {
        "id": "bHBNbPdDAZDF",
        "outputId": "0cbc4e2b-30f5-4095-d607-6d5a78c9ee83",
        "colab": {
          "base_uri": "https://localhost:8080/",
          "height": 35
        }
      },
      "source": [
        "deltaExergy = exergy[0]-exergy[1]-exergy[2]\n",
        "effExergy = 1-(abs(deltaExergy)/(exergy[1]+exergy[2]))\n",
        "effEnergy = energy[0]/(energy[1]+energy[2])\n",
        "effExergy"
      ],
      "execution_count": null,
      "outputs": [
        {
          "output_type": "execute_result",
          "data": {
            "text/plain": [
              "0.9423187038460956"
            ]
          },
          "metadata": {
            "tags": []
          },
          "execution_count": 15
        }
      ]
    },
    {
      "cell_type": "markdown",
      "metadata": {
        "id": "73m06C4Nnmws"
      },
      "source": [
        "# Mean Capacity Calculations"
      ]
    },
    {
      "cell_type": "code",
      "metadata": {
        "id": "MZ6sNCya1sF8",
        "outputId": "2ace5d5a-b363-4f00-df61-f3e124818258",
        "colab": {
          "base_uri": "https://localhost:8080/",
          "height": 34
        }
      },
      "source": [
        "cA = 1.702-2*(3.249)\n",
        "cB = (10**-3)*(9.081-2*(0.422))\n",
        "cC = (10**-6)*(-2.164)\n",
        "cD = (10**5)*(0-0.083)\n",
        "T = 1000\n",
        "T0 = 298.15\n",
        "ans1 = cA*(T-T0) + (cB/2)*(T**2 -T0**2) + (cC/3)*(T**3 - T0**3) + cD*((T-T0)/(T*T0))\n",
        "ans1 = 8.314*ans1*10**-3 - 75\n",
        "ans1"
      ],
      "execution_count": 7,
      "outputs": [
        {
          "output_type": "execute_result",
          "data": {
            "text/plain": [
              "-77.78879760246328"
            ]
          },
          "metadata": {
            "tags": []
          },
          "execution_count": 7
        }
      ]
    },
    {
      "cell_type": "code",
      "metadata": {
        "id": "CnUxZdQXjj4C"
      },
      "source": [
        ""
      ],
      "execution_count": null,
      "outputs": []
    }
  ]
}